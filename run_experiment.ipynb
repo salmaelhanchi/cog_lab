{
 "cells": [
  {
   "cell_type": "code",
   "execution_count": 7,
   "id": "e8435d4e-789e-4c5e-af60-c6dc11031e64",
   "metadata": {},
   "outputs": [
    {
     "name": "stdout",
     "output_type": "stream",
     "text": [
      "C:\\Users\\salma\\.conda\\envs\\cogsci-lab\\python.exe\n"
     ]
    }
   ],
   "source": [
    "import sys\n",
    "print(sys.executable)"
   ]
  },
  {
   "cell_type": "code",
   "execution_count": 8,
   "id": "d511a401-81c8-4237-b32f-0004d396f6c8",
   "metadata": {},
   "outputs": [],
   "source": [
    "import torch"
   ]
  },
  {
   "cell_type": "code",
   "execution_count": 9,
   "id": "390d9cf6-1d6a-4762-9330-aded179fac6a",
   "metadata": {},
   "outputs": [],
   "source": [
    "import mlflow"
   ]
  },
  {
   "cell_type": "code",
   "execution_count": 10,
   "id": "d1525948-a0e6-4379-8175-29cf2479bd3e",
   "metadata": {},
   "outputs": [
    {
     "name": "stdout",
     "output_type": "stream",
     "text": [
      "Successfully imported all modules.\n"
     ]
    }
   ],
   "source": [
    "from model_RNN import MemoryRNN\n",
    "from data_loader import generate_task_data\n",
    "from train import train_model\n",
    "print(\"Successfully imported all modules.\")"
   ]
  },
  {
   "cell_type": "code",
   "execution_count": 11,
   "id": "0f02153c-899e-4e76-bc9e-90d5326e720f",
   "metadata": {},
   "outputs": [],
   "source": [
    "# --- 2. CONFIGURATION: Defining the Experiment Parameters ---\n",
    "\n",
    "INPUT_SIZE = 3      # Vocabulary size (Pad, A, B)\n",
    "HIDDEN_SIZE = 16    # The model's memory capacity\n",
    "OUTPUT_SIZE = 3     # Number of possible answers the model can give\n",
    "SEQUENCE_LENGTH = 10# How long the model needs to remember the signal\n",
    "#250  600  900 1300\n",
    "NUM_EPOCHS = 300   # How many training cycles to run\n",
    "BATCH_SIZE = 300    # How many examples to show the model at once\n",
    "LEARNING_RATE = 0.005 # How quickly the model learns"
   ]
  },
  {
   "cell_type": "code",
   "execution_count": 13,
   "id": "00364547-aea4-4f1b-9e03-87d3dd0f323b",
   "metadata": {},
   "outputs": [
    {
     "name": "stdout",
     "output_type": "stream",
     "text": [
      "Logging parameters to MLflow...\n",
      "\n",
      "Creating the MemoryRNN (LSTM) model...\n",
      "--- Starting Training ---\n",
      "Epoch [25/300], Loss: 0.7220\n",
      "Epoch [50/300], Loss: 0.6984\n",
      "Epoch [75/300], Loss: 0.7060\n",
      "Epoch [100/300], Loss: 0.6984\n",
      "Epoch [125/300], Loss: 0.6949\n",
      "Epoch [150/300], Loss: 0.6939\n",
      "Epoch [175/300], Loss: 0.6959\n",
      "Epoch [200/300], Loss: 0.6988\n",
      "Epoch [225/300], Loss: 0.6952\n",
      "Epoch [250/300], Loss: 0.7017\n",
      "Epoch [275/300], Loss: 0.6939\n"
     ]
    },
    {
     "name": "stderr",
     "output_type": "stream",
     "text": [
      "2025/08/30 10:55:29 WARNING mlflow.models.model: `artifact_path` is deprecated. Please use `name` instead.\n"
     ]
    },
    {
     "name": "stdout",
     "output_type": "stream",
     "text": [
      "Epoch [300/300], Loss: 0.6937\n",
      "--- Training Complete ---\n",
      "\n",
      "--- Testing the Trained Model ---\n",
      "Final Accuracy on 100 test samples: 47.00%\n",
      "Logging model artifact to MLflow...\n"
     ]
    },
    {
     "name": "stderr",
     "output_type": "stream",
     "text": [
      "2025/08/30 10:55:35 WARNING mlflow.models.model: Model logged without a signature and input example. Please set `input_example` parameter when logging the model to auto infer the model signature.\n"
     ]
    },
    {
     "name": "stdout",
     "output_type": "stream",
     "text": [
      "\n",
      "Experiment run finished and logged to MLflow.\n"
     ]
    }
   ],
   "source": [
    "# --- Branch 1: MLflow Setup _ Last cell---\n",
    "mlflow.set_experiment(\"RNN_Memory_Task\")\n",
    "\n",
    "# This command starts a \"new page\" in our lab notebook for this specific run.\n",
    "# Everything indented below will be recorded.\n",
    "with mlflow.start_run():\n",
    "    \n",
    "    # --- Log the parameters (the \"Methods\" section of our report) ---\n",
    "    print(\"Logging parameters to MLflow...\")\n",
    "    mlflow.log_param(\"model_type\", \"RNN\")\n",
    "    mlflow.log_param(\"hidden_size\", HIDDEN_SIZE)\n",
    "    mlflow.log_param(\"num_epochs\", NUM_EPOCHS)\n",
    "    mlflow.log_param(\"learning_rate\", LEARNING_RATE)\n",
    "    \n",
    "    \n",
    "    # --- 3. INSTANTIATION: Building the Model ---\n",
    "    print(\"\\nCreating the MemoryRNN (LSTM) model...\")\n",
    "    model = MemoryRNN(\n",
    "        input_size=INPUT_SIZE, \n",
    "        hidden_size=HIDDEN_SIZE, \n",
    "        output_size=OUTPUT_SIZE\n",
    "    )\n",
    "    \n",
    "    \n",
    "    # --- 4. EXECUTION: The Training Process ---\n",
    "    criterion = torch.nn.CrossEntropyLoss()\n",
    "    optimizer = torch.optim.Adam(model.parameters(), lr=LEARNING_RATE)\n",
    "\n",
    "    print(\"--- Starting Training ---\")\n",
    "    for epoch in range(NUM_EPOCHS):\n",
    "        inputs, labels = generate_task_data(BATCH_SIZE, SEQUENCE_LENGTH)\n",
    "        \n",
    "        outputs = model(inputs)\n",
    "        loss = criterion(outputs, labels)\n",
    "        \n",
    "        optimizer.zero_grad()\n",
    "        loss.backward()\n",
    "        optimizer.step()\n",
    "        \n",
    "        if (epoch + 1) % 25 == 0:\n",
    "            print(f'Epoch [{epoch+1}/{NUM_EPOCHS}], Loss: {loss.item():.4f}')\n",
    "            # --- NEW: Log the metric (the \"Results\" section) ---\n",
    "            # We log the loss at each step to see a learning curve.\n",
    "            mlflow.log_metric(\"training_loss\", loss.item(), step=epoch+1)\n",
    "            \n",
    "    print(\"--- Training Complete ---\")\n",
    "    \n",
    "    \n",
    "    # --- 5. EXAMINATION & Final Logging ---\n",
    "    print(\"\\n--- Testing the Trained Model ---\")\n",
    "    model.eval()\n",
    "    \n",
    "    correct_predictions = 0\n",
    "    total_tests = 100 # Let's test on 100 new examples for a better accuracy measure\n",
    "    \n",
    "    with torch.no_grad():\n",
    "        test_inputs, test_labels = generate_task_data(total_tests, SEQUENCE_LENGTH)\n",
    "        test_outputs = model(test_inputs)\n",
    "        _, predicted_indices = torch.max(test_outputs.data, 1)\n",
    "        \n",
    "        correct_predictions += (predicted_indices == test_labels).sum().item()\n",
    "        \n",
    "    accuracy = correct_predictions / total_tests\n",
    "    print(f\"Final Accuracy on {total_tests} test samples: {accuracy:.2%}\")\n",
    "    \n",
    "    # --- NEW: Log the final accuracy metric ---\n",
    "    mlflow.log_metric(\"final_accuracy\", accuracy)\n",
    "\n",
    "    # --- NEW: Log the model itself (the \"Artifact\") ---\n",
    "    # This saves the trained model as a file associated with this run.\n",
    "    print(\"Logging model artifact to MLflow...\")\n",
    "    mlflow.pytorch.log_model(model, \"trained_model\")\n",
    "    \n",
    "print(\"\\nExperiment run finished and logged to MLflow.\")\n",
    "# --- END------"
   ]
  },
  {
   "cell_type": "code",
   "execution_count": 14,
   "id": "d98f022e-9a1b-4d7a-8270-6bde0c72078d",
   "metadata": {},
   "outputs": [
    {
     "name": "stdout",
     "output_type": "stream",
     "text": [
      "\n",
      "Creating the MemoryRNN model...\n",
      "MemoryRNN(\n",
      "  (rnn): RNN(3, 16, batch_first=True)\n",
      "  (fc): Linear(in_features=16, out_features=3, bias=True)\n",
      ")\n"
     ]
    }
   ],
   "source": [
    "# --- Branch 1 :Normal Setup  ---\n",
    "# --- 3. INSTANTIATION: Building the Model from Our Blueprint ---\n",
    "# We create an actual instance of our model using the blueprint from model.py\n",
    "# and the parameters we defined above.\n",
    "print(\"\\nCreating the MemoryRNN model...\")\n",
    "rnn_model = MemoryRNN(\n",
    "    input_size=INPUT_SIZE, \n",
    "    hidden_size=HIDDEN_SIZE, \n",
    "    output_size=OUTPUT_SIZE\n",
    ")\n",
    "print(rnn_model)"
   ]
  },
  {
   "cell_type": "code",
   "execution_count": 6,
   "id": "b4dbcab8-276a-4da2-a9de-aebead999c04",
   "metadata": {
    "scrolled": true
   },
   "outputs": [
    {
     "name": "stdout",
     "output_type": "stream",
     "text": [
      "--- Starting Training ---\n",
      "Epoch [25/300], Loss: 0.7078\n",
      "Epoch [50/300], Loss: 0.7106\n",
      "Epoch [75/300], Loss: 0.6891\n",
      "Epoch [100/300], Loss: 0.6935\n",
      "Epoch [125/300], Loss: 0.4998\n",
      "Epoch [150/300], Loss: 0.0733\n",
      "Epoch [175/300], Loss: 0.0139\n",
      "Epoch [200/300], Loss: 0.0068\n",
      "Epoch [225/300], Loss: 0.0044\n",
      "Epoch [250/300], Loss: 0.0033\n",
      "Epoch [275/300], Loss: 0.0027\n",
      "Epoch [300/300], Loss: 0.0023\n",
      "--- Training Complete ---\n",
      "\n",
      "--- Testing the Trained Model on a New, Unseen Example ---\n",
      "The task was to remember the signal: 'B'\n",
      "The model's final prediction was:     'B'\n",
      "\n",
      "[SUCCESS]: The model has learned to integrate information over time.\n"
     ]
    }
   ],
   "source": [
    "# --- Normal Setup _ Last Cell ---\n",
    "# --- 4. EXECUTION: Running the Training Process ---\n",
    "# We call our training function from train.py, passing it the model we just\n",
    "# created and all the training parameters. This function will return the\n",
    "# model after its weights have been updated through learning.\n",
    "trained_model = train_model(\n",
    "    model=rnn_model,\n",
    "    num_epochs=NUM_EPOCHS,\n",
    "    batch_size=BATCH_SIZE,\n",
    "    sequence_length=SEQUENCE_LENGTH,\n",
    "    learning_rate=LEARNING_RATE\n",
    ")\n",
    "\n",
    "# --- 5. EXAMINATION: Testing the Trained Model ---\n",
    "# This is the most important part: the final exam for our model.\n",
    "# We must verify that it has actually learned the task.\n",
    "\n",
    "print(\"\\n--- Testing the Trained Model on a New, Unseen Example ---\")\n",
    "\n",
    "# Set the model to evaluation mode. This is a good practice that turns off\n",
    "# certain training-specific layers like Dropout.\n",
    "trained_model.eval()\n",
    "\n",
    "# The `torch.no_grad()` context manager tells PyTorch that we are not\n",
    "# training, so it doesn't need to calculate gradients, which saves memory and computation.\n",
    "with torch.no_grad():\n",
    "    # Generate one single, new test sample the model has never seen before.\n",
    "    test_input, test_label = generate_task_data(1, SEQUENCE_LENGTH)\n",
    "    \n",
    "    # Get the model's raw output (logits) for this test sample.\n",
    "    test_output = trained_model(test_input)\n",
    "    \n",
    "    # Find the model's actual prediction by finding the index of the highest logit.\n",
    "    _, predicted_idx = torch.max(test_output.data, 1)\n",
    "\n",
    "    signal_map = {1: 'A', 2: 'B'}\n",
    "    correct_signal = signal_map[test_label.item()]\n",
    "    predicted_signal = signal_map[predicted_idx.item()]\n",
    "    \n",
    "    print(f\"The task was to remember the signal: '{correct_signal}'\")\n",
    "    print(f\"The model's final prediction was:     '{predicted_signal}'\")\n",
    "    \n",
    "    if correct_signal == predicted_signal:\n",
    "        print(\"\\n[SUCCESS]: The model has learned to integrate information over time.\")\n",
    "    else:\n",
    "        print(\"\\n[FAILURE]: The model did not learn the task. Consider increasing NUM_EPOCHS.\")\n",
    "# --- END------"
   ]
  },
  {
   "cell_type": "code",
   "execution_count": null,
   "id": "9a1fc668-c069-4b2a-b58f-eb1155fa1a55",
   "metadata": {},
   "outputs": [],
   "source": []
  }
 ],
 "metadata": {
  "kernelspec": {
   "display_name": "Python 3 (ipykernel)",
   "language": "python",
   "name": "python3"
  },
  "language_info": {
   "codemirror_mode": {
    "name": "ipython",
    "version": 3
   },
   "file_extension": ".py",
   "mimetype": "text/x-python",
   "name": "python",
   "nbconvert_exporter": "python",
   "pygments_lexer": "ipython3",
   "version": "3.10.18"
  }
 },
 "nbformat": 4,
 "nbformat_minor": 5
}
